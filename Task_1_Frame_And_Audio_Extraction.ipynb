{
  "nbformat": 4,
  "nbformat_minor": 0,
  "metadata": {
    "colab": {
      "name": "Task_1_Frame_And_Audio_Extraction.ipynb",
      "provenance": [],
      "collapsed_sections": []
    },
    "kernelspec": {
      "name": "python3",
      "display_name": "Python 3"
    },
    "accelerator": "GPU"
  },
  "cells": [
    {
      "cell_type": "markdown",
      "metadata": {
        "id": "SOpdePup7wrg"
      },
      "source": [
        "#### Installing Required Packages."
      ]
    },
    {
      "cell_type": "code",
      "metadata": {
        "id": "4aHqum6O7z_V",
        "colab": {
          "base_uri": "https://localhost:8080/"
        },
        "outputId": "98f5d3d2-86c8-4b2e-d289-cdd62021d3b6"
      },
      "source": [
        " pip install pydub  "
      ],
      "execution_count": null,
      "outputs": [
        {
          "output_type": "stream",
          "text": [
            "Collecting pydub\n",
            "  Downloading https://files.pythonhosted.org/packages/7b/d1/fbfa79371a8cd9bb15c2e3c480d7e6e340ed5cc55005174e16f48418333a/pydub-0.24.1-py2.py3-none-any.whl\n",
            "Installing collected packages: pydub\n",
            "Successfully installed pydub-0.24.1\n"
          ],
          "name": "stdout"
        }
      ]
    },
    {
      "cell_type": "markdown",
      "metadata": {
        "id": "Q0aZJePu7rmI"
      },
      "source": [
        "#### Colab Specific Code (Not for Review)"
      ]
    },
    {
      "cell_type": "code",
      "metadata": {
        "id": "_fcvjse77vag",
        "colab": {
          "base_uri": "https://localhost:8080/"
        },
        "outputId": "ca5e9adf-27c2-41ed-eb9b-d6aaf8c7f60a"
      },
      "source": [
        "from google.colab import drive\n",
        "drive.mount('/content/gdrive')"
      ],
      "execution_count": null,
      "outputs": [
        {
          "output_type": "stream",
          "text": [
            "Mounted at /content/gdrive\n"
          ],
          "name": "stdout"
        }
      ]
    },
    {
      "cell_type": "markdown",
      "metadata": {
        "id": "eCQXJLzu0E7G"
      },
      "source": [
        "#### Importing Required Libraries"
      ]
    },
    {
      "cell_type": "code",
      "metadata": {
        "id": "sbMXEADmzTnM",
        "colab": {
          "base_uri": "https://localhost:8080/"
        },
        "outputId": "12c5de58-dbca-4575-c334-e462c9ee5437"
      },
      "source": [
        "import sys\n",
        "import os\n",
        "import cv2\n",
        "import csv\n",
        "import pandas as pd\n",
        "import numpy  as np\n",
        "import re\n",
        "import moviepy.editor as mp\n",
        "from pydub import AudioSegment\n",
        "from moviepy.editor import VideoFileClip"
      ],
      "execution_count": null,
      "outputs": [
        {
          "output_type": "stream",
          "text": [
            "Imageio: 'ffmpeg-linux64-v3.3.1' was not found on your computer; downloading it now.\n",
            "Try 1. Download from https://github.com/imageio/imageio-binaries/raw/master/ffmpeg/ffmpeg-linux64-v3.3.1 (43.8 MB)\n",
            "Downloading: 8192/45929032 bytes (0.0%)\b\b\b\b\b\b\b\b\b\b\b\b\b\b\b\b\b\b\b\b\b\b\b\b\b\b1441792/45929032 bytes (3.1%)\b\b\b\b\b\b\b\b\b\b\b\b\b\b\b\b\b\b\b\b\b\b\b\b\b\b\b\b\b4284416/45929032 bytes (9.3%)\b\b\b\b\b\b\b\b\b\b\b\b\b\b\b\b\b\b\b\b\b\b\b\b\b\b\b\b\b7725056/45929032 bytes (16.8%)\b\b\b\b\b\b\b\b\b\b\b\b\b\b\b\b\b\b\b\b\b\b\b\b\b\b\b\b\b\b11067392/45929032 bytes (24.1%)\b\b\b\b\b\b\b\b\b\b\b\b\b\b\b\b\b\b\b\b\b\b\b\b\b\b\b\b\b\b\b14467072/45929032 bytes (31.5%)\b\b\b\b\b\b\b\b\b\b\b\b\b\b\b\b\b\b\b\b\b\b\b\b\b\b\b\b\b\b\b17825792/45929032 bytes (38.8%)\b\b\b\b\b\b\b\b\b\b\b\b\b\b\b\b\b\b\b\b\b\b\b\b\b\b\b\b\b\b\b20897792/45929032 bytes (45.5%)\b\b\b\b\b\b\b\b\b\b\b\b\b\b\b\b\b\b\b\b\b\b\b\b\b\b\b\b\b\b\b23928832/45929032 bytes (52.1%)\b\b\b\b\b\b\b\b\b\b\b\b\b\b\b\b\b\b\b\b\b\b\b\b\b\b\b\b\b\b\b27303936/45929032 bytes (59.4%)\b\b\b\b\b\b\b\b\b\b\b\b\b\b\b\b\b\b\b\b\b\b\b\b\b\b\b\b\b\b\b30687232/45929032 bytes (66.8%)\b\b\b\b\b\b\b\b\b\b\b\b\b\b\b\b\b\b\b\b\b\b\b\b\b\b\b\b\b\b\b34111488/45929032 bytes (74.3%)\b\b\b\b\b\b\b\b\b\b\b\b\b\b\b\b\b\b\b\b\b\b\b\b\b\b\b\b\b\b\b37462016/45929032 bytes (81.6%)\b\b\b\b\b\b\b\b\b\b\b\b\b\b\b\b\b\b\b\b\b\b\b\b\b\b\b\b\b\b\b40828928/45929032 bytes (88.9%)\b\b\b\b\b\b\b\b\b\b\b\b\b\b\b\b\b\b\b\b\b\b\b\b\b\b\b\b\b\b\b43909120/45929032 bytes (95.6%)\b\b\b\b\b\b\b\b\b\b\b\b\b\b\b\b\b\b\b\b\b\b\b\b\b\b\b\b\b\b\b45929032/45929032 bytes (100.0%)\n",
            "  Done\n",
            "File saved as /root/.imageio/ffmpeg/ffmpeg-linux64-v3.3.1.\n"
          ],
          "name": "stdout"
        }
      ]
    },
    {
      "cell_type": "markdown",
      "metadata": {
        "id": "mP5pS-TA0j12"
      },
      "source": [
        "#### Generic Function to make Required Directories"
      ]
    },
    {
      "cell_type": "code",
      "metadata": {
        "id": "5nvHzVV90Vnf"
      },
      "source": [
        "def make_dirs(*dirs):\n",
        "  for directory in dirs:\n",
        "    os.makedirs(directory, exist_ok = True)"
      ],
      "execution_count": null,
      "outputs": []
    },
    {
      "cell_type": "markdown",
      "metadata": {
        "id": "6B99yD4I0smo"
      },
      "source": [
        "#### Match Target Amplitude\n",
        "- Audio loudness normalization\n",
        "- Peak normalization is not always helpful and it appears that ffmpeg supports loudness normalization, where gain is applied to achieve an average amplitude level.\n",
        "- rms is a measure of average amplitude, which pydub provides as audio_segment.rms and also provides a convenience method that provides this value converted to dBFS (audio_segment.dBFS)\n"
      ]
    },
    {
      "cell_type": "code",
      "metadata": {
        "id": "CvMd_-zi0oOR"
      },
      "source": [
        "def match_target_amplitude(sound, target_dBFS):\n",
        "    change_in_dBFS = target_dBFS - sound.dBFS\n",
        "    return sound.apply_gain(change_in_dBFS)"
      ],
      "execution_count": null,
      "outputs": []
    },
    {
      "cell_type": "markdown",
      "metadata": {
        "id": "CBU449fD01D3"
      },
      "source": [
        "#### Function to Extract Frames from Given Videos."
      ]
    },
    {
      "cell_type": "code",
      "metadata": {
        "id": "2OCQfy8e05t5"
      },
      "source": [
        "def extract_frames(root_folder, Content_folder,video_path, video_file, success):\n",
        "  count = 0\n",
        "  nc = 0\n",
        "  while success:\n",
        "    vidcap = cv2.VideoCapture(video_path)\n",
        "    # extract frame every one second\n",
        "    \n",
        "    vidcap.set(cv2.CAP_PROP_POS_MSEC,(count*1000))\n",
        "    success,image = vidcap.read() # returns a boolean. Returns True if frame is read. Is used to check end of end of video.\n",
        "    \n",
        "    ## Stop when last frame is identified\n",
        "    image_last = cv2.imread(\"frame{}.png\".format(count-1))\n",
        "    if np.array_equal(image,image_last):\n",
        "        break\n",
        "    File_name=\"Raw_Frame_\"+video_file+\"_\"+\"{0:0=2d}\".format(nc)+\".jpg\"\n",
        "    \n",
        "    #Saving raw frames\n",
        "    frame_dir = os.path.join(Content_folder, video_file, \"Raw_Frames\")\n",
        "    make_dirs(frame_dir)\n",
        "    frame_path = os.path.join(Content_folder, video_file, \"Raw_Frames\", File_name)\n",
        "    cv2.imwrite(frame_path,image)\n",
        "    count = count + 1\n",
        "    nc = nc + 1"
      ],
      "execution_count": null,
      "outputs": []
    },
    {
      "cell_type": "markdown",
      "metadata": {
        "id": "YeSrl05g0-rt"
      },
      "source": [
        "#### Function to Extract Audio From Videos."
      ]
    },
    {
      "cell_type": "code",
      "metadata": {
        "id": "00il9Wz71K6h"
      },
      "source": [
        "# Use AudioSegment to extract audio\n",
        "\n",
        "def extract_audio(root_folder,Content_folder, video_path, video_file):\n",
        "\n",
        "  # Getting the audio file from current video\n",
        "  \n",
        "  clip = mp.VideoFileClip(video_path)\n",
        "  \n",
        "  print(\"Duration of video : \", clip.duration)\n",
        "  print(\"FPS : \", clip.fps)  # Frame per second\n",
        "\n",
        "  # Assinging the name of audio file\n",
        "  Audio_name=video_file+\".wav\"\n",
        "  \n",
        "  # Saving the extracted Audio with \"Audio_name\" in respective folder.\n",
        "  Audio_folder_Path = os.path.join(Content_folder, video_file, \"Full_audio\")\n",
        "  \n",
        "  #making required directories\n",
        "  make_dirs(Audio_folder_Path)\n",
        "\n",
        "  # writing audio file in the corresponding video folder.\n",
        "  audio_path = os.path.join(Audio_folder_Path, Audio_name)\n",
        "  clip.audio.write_audiofile(audio_path)\n",
        "  \n",
        "  # Normailizing Extracted audio and saving in Audio_Folder\n",
        "      \n",
        "  #Folder of raw audio file extarcted from video\n",
        "  Normalized_Audio_name = video_file + \"_Normalized_Audio.wav\"\n",
        "  os.path.join(Audio_folder_Path,Normalized_Audio_name)\n",
        "  \n",
        "  # Path to store the normalized version of audio\n",
        "  Audio_Normalized_path=os.path.join(Content_folder,video_file,\"Normalised_Audio\")\n",
        "  \n",
        "  # making required directories.\n",
        "  make_dirs(Audio_Normalized_path)\n",
        "\n",
        "  #Reading Raw audio file\n",
        "  sound = AudioSegment.from_file(audio_path, \"wav\")\n",
        "  # Note :- IBm watson provide inbuilt frame rate adjustment and normalization. \n",
        "  # If you are not using IBM_watson,please uncomment below normalization code line.\n",
        "  #Calling Normalized function \n",
        "  #normalized_sound = match_target_amplitude(sound, -20.0)\n",
        "  #changing the frame rate of extracted audio to 16Khz\n",
        "  normalized_sound =sound.set_frame_rate(16000)\n",
        "  normalized_audio_path = os.path.join(Audio_Normalized_path,Normalized_Audio_name)\n",
        "  #Saving the normalized version of audio\n",
        "  normalized_sound.export(normalized_audio_path, format=\"wav\")"
      ],
      "execution_count": null,
      "outputs": []
    },
    {
      "cell_type": "markdown",
      "metadata": {
        "id": "Kh7vDVUi1Tgh"
      },
      "source": [
        "#### Function to extract File Names of all the Videos present inside the folder, based on the accepted extensions.\n"
      ]
    },
    {
      "cell_type": "code",
      "metadata": {
        "id": "DoYUJSJY1YiF"
      },
      "source": [
        "def extract_videos(path, extensions):\n",
        "  #Getting list of All videos \n",
        "  files = os.listdir(path)\n",
        "  vdofiles = []\n",
        "  vdopaths = []\n",
        "  print(\"List of videos present in Root Folder with extensions\")\n",
        "  for file in files:\n",
        "    file_arr = file.split('.')\n",
        "    print(file_arr)\n",
        "    filename = file_arr[0]\n",
        "    extension = file_arr[1]\n",
        "    if extension in extensions:\n",
        "      vdofiles.append(filename)\n",
        "      vdopaths.append(os.path.join(path, file))\n",
        "  return vdofiles, vdopaths"
      ],
      "execution_count": null,
      "outputs": []
    },
    {
      "cell_type": "markdown",
      "metadata": {
        "id": "ycocLYoA2Jev"
      },
      "source": [
        "#### The Main Function"
      ]
    },
    {
      "cell_type": "code",
      "metadata": {
        "id": "rnVrn6im2MIE"
      },
      "source": [
        "def main():\n",
        "  root_folder =\"/content/gdrive/My Drive/vid\"\n",
        "  Content_folder=\"/content/gdrive/My Drive/Extracted_content\"\n",
        "  VdoAD = os.path.join(root_folder, \"VDO-AD\")\n",
        "  make_dirs(VdoAD)\n",
        "  extensions = ['mp4', 'mkv','avi']\n",
        "  video_files, video_paths = extract_videos(VdoAD , extensions)\n",
        "  for itr in range(len(video_paths)):\n",
        "    extract_frames(root_folder ,Content_folder, video_paths[itr], video_files[itr], True)\n",
        "    extract_audio(root_folder ,Content_folder, video_paths[itr], video_files[itr])"
      ],
      "execution_count": null,
      "outputs": []
    },
    {
      "cell_type": "code",
      "metadata": {
        "id": "Ad92PGfH2gu0",
        "colab": {
          "base_uri": "https://localhost:8080/"
        },
        "outputId": "461ba794-95e9-4921-aec2-e6e9b2c480dc"
      },
      "source": [
        "main()"
      ],
      "execution_count": null,
      "outputs": [
        {
          "output_type": "stream",
          "text": [
            "List of videos present in Root Folder with extensions\n",
            "['VDO-AD-200', 'mp4']\n",
            "['VDO-AD-105', 'mp4']\n",
            "Duration of video :  29.97\n",
            "FPS :  29.97002997002997\n",
            "[MoviePy] Writing audio in /content/gdrive/My Drive/Extracted_content/VDO-AD-200/Full_audio/VDO-AD-200.wav\n"
          ],
          "name": "stdout"
        },
        {
          "output_type": "stream",
          "text": [
            "100%|██████████| 661/661 [00:00<00:00, 1682.84it/s]"
          ],
          "name": "stderr"
        },
        {
          "output_type": "stream",
          "text": [
            "[MoviePy] Done.\n"
          ],
          "name": "stdout"
        },
        {
          "output_type": "stream",
          "text": [
            "\n"
          ],
          "name": "stderr"
        },
        {
          "output_type": "stream",
          "text": [
            "Duration of video :  29.85\n",
            "FPS :  29.97002997002997\n",
            "[MoviePy] Writing audio in /content/gdrive/My Drive/Extracted_content/VDO-AD-105/Full_audio/VDO-AD-105.wav\n"
          ],
          "name": "stdout"
        },
        {
          "output_type": "stream",
          "text": [
            "100%|██████████| 659/659 [00:00<00:00, 1486.94it/s]"
          ],
          "name": "stderr"
        },
        {
          "output_type": "stream",
          "text": [
            "[MoviePy] Done.\n"
          ],
          "name": "stdout"
        },
        {
          "output_type": "stream",
          "text": [
            "\n"
          ],
          "name": "stderr"
        }
      ]
    }
  ]
}