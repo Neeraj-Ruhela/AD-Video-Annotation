{
  "nbformat": 4,
  "nbformat_minor": 0,
  "metadata": {
    "colab": {
      "name": "Task_2_GreyScale_And_Resized_Frames.ipynb",
      "provenance": [],
      "collapsed_sections": []
    },
    "kernelspec": {
      "name": "python3",
      "display_name": "Python 3"
    }
  },
  "cells": [
    {
      "cell_type": "markdown",
      "metadata": {
        "id": "YLEAzTyo9nA-"
      },
      "source": [
        "#### Installing Required Libraries."
      ]
    },
    {
      "cell_type": "markdown",
      "metadata": {
        "id": "lhd2SGtL7ZvF"
      },
      "source": [
        "#### Colab Specific Code (Not for Review)"
      ]
    },
    {
      "cell_type": "code",
      "metadata": {
        "id": "SfTVYHGO7e6Q",
        "colab": {
          "base_uri": "https://localhost:8080/"
        },
        "outputId": "fdf02133-bbc6-4cb9-f7c7-da30f90e019e"
      },
      "source": [
        "from google.colab import drive\n",
        "drive.mount('/content/gdrive', force_remount=True)"
      ],
      "execution_count": null,
      "outputs": [
        {
          "output_type": "stream",
          "text": [
            "Mounted at /content/gdrive\n"
          ],
          "name": "stdout"
        }
      ]
    },
    {
      "cell_type": "markdown",
      "metadata": {
        "id": "H5UuH-U83gbH"
      },
      "source": [
        "#### Importing Required Libraries"
      ]
    },
    {
      "cell_type": "code",
      "metadata": {
        "id": "jumqUruh2uAE"
      },
      "source": [
        "import sys\n",
        "import os\n",
        "import cv2\n",
        "import csv\n",
        "import pandas as pd\n",
        "import numpy  as np\n",
        "import re"
      ],
      "execution_count": null,
      "outputs": []
    },
    {
      "cell_type": "markdown",
      "metadata": {
        "id": "N37deJTU3mjQ"
      },
      "source": [
        "#### Generic Function to Make Required Directories"
      ]
    },
    {
      "cell_type": "code",
      "metadata": {
        "id": "Lx3zy3ua3qfK"
      },
      "source": [
        "def make_dirs(*dirs):\n",
        "  for directory in dirs:\n",
        "    os.makedirs(directory, exist_ok = True)"
      ],
      "execution_count": null,
      "outputs": []
    },
    {
      "cell_type": "markdown",
      "metadata": {
        "id": "ZwSen2_i6FaM"
      },
      "source": [
        "#### Function to Resize Frames and Convert them to GreyScale."
      ]
    },
    {
      "cell_type": "code",
      "metadata": {
        "id": "a0dX4-TR3tWh"
      },
      "source": [
        "def convert_to_greyscale(root_folder,Content_folder, video_path, video_file, frames_dir):\n",
        "  # By default the Frame and width size for easy OCR is 2500, any image with resolution more than 2500  will be converted to 2500 before applying easy ocr.\n",
        "  # in our use case 2000*2000 image size was working good. \n",
        "  # you can experiment with thsese values and can adjust as per the requirement.\n",
        "  # reference link for pytesseract(https://pypi.org/project/pytesseract/) and for keras ocr(https://keras-ocr.readthedocs.io/en/latest/api.html),\n",
        "  # Note: By default OpenCV stores images in BGR format and since pytesseract assumes RGB format,\n",
        "  # we need to convert from BGR to RGB format/mode:\n",
        "  #img_rgb = cv2.cvtColor(img_cv, cv2.COLOR_BGR2RGB)\n",
        "  # Before OCRing it's good to convert the image to gray scale,Why? please refer below link.\n",
        "  #(https://www.researchgate.net/figure/A-comparative-study-of-the-OCR-systems-using-color-and-gray-scale-images-with-or-without_fig3_310645810) \n",
        "  Frame_width=2000\n",
        "  Frame_height=2000\n",
        "  count = 0\n",
        "  nc = 0\n",
        "  frames_path = os.path.join(Content_folder, video_file, frames_dir)\n",
        "  for filename in os.listdir(frames_path):\n",
        "    if filename.endswith(\".jpg\"):\n",
        "      #Converting frames to gray scale\n",
        "      image = cv2.imread(os.path.join(frames_path, filename))\n",
        "      Gray_image = cv2.cvtColor(image,cv2.COLOR_BGR2GRAY)\n",
        "      \n",
        "      #saving gray scale frames\n",
        "      gray_frame_vid_folder = os.path.join(Content_folder, video_file, \"Gray_frames\")\n",
        "      make_dirs(gray_frame_vid_folder)\n",
        "      Gray_File_name=\"Gray_Frame_\"+video_file+\"_\"+\"{0:0=2d}\".format(nc)+\".jpg\"\n",
        "      \n",
        "      # Saving the gray images \n",
        "      gray_path = os.path.join(gray_frame_vid_folder, Gray_File_name) \n",
        "      cv2.imwrite(gray_path,Gray_image)\n",
        "      \n",
        "      #Resizing the gray frames\n",
        "      Gray_image = cv2.resize(Gray_image,(Frame_width,Frame_height))\n",
        "      resize_gray_frame_dir = os.path.join(Content_folder, video_file, \"Resized_Gray_frames\")\n",
        "      make_dirs(resize_gray_frame_dir)\n",
        "      Resized_Gray_File_name=\"Resized_Gray_frames_\"+video_file+\"_\"+\"{0:0=2d}\".format(nc)+\".jpg\"\n",
        "      resize_gray_path = os.path.join(resize_gray_frame_dir, Resized_Gray_File_name)\n",
        "      \n",
        "      # Saving the gray images \n",
        "      cv2.imwrite(resize_gray_path,Gray_image)\n",
        "      \n",
        "      count = count + 1\n",
        "      nc = nc + 1"
      ],
      "execution_count": null,
      "outputs": []
    },
    {
      "cell_type": "markdown",
      "metadata": {
        "id": "c3utUHxA-Je1"
      },
      "source": [
        "#### Function to extract File Names of all the Videos present inside the folder, based on the accepted extensions."
      ]
    },
    {
      "cell_type": "code",
      "metadata": {
        "id": "bk1N03Ha-O1G"
      },
      "source": [
        "def extract_videos(path, extensions):\n",
        "  #Getting list of All videos \n",
        "  files = os.listdir(path)\n",
        "  vdofiles = []\n",
        "  vdopaths = []\n",
        "  for file in files:\n",
        "    file_arr = file.split('.')\n",
        "    filename = file_arr[0]\n",
        "    extension = file_arr[1]\n",
        "    if extension in extensions:\n",
        "      vdofiles.append(filename)\n",
        "      vdopaths.append(os.path.join(path, file))\n",
        "  return vdofiles, vdopaths"
      ],
      "execution_count": null,
      "outputs": []
    },
    {
      "cell_type": "markdown",
      "metadata": {
        "id": "PsT1ibV_6MSu"
      },
      "source": [
        "#### Main Function."
      ]
    },
    {
      "cell_type": "code",
      "metadata": {
        "id": "YNyaoCub6OAC"
      },
      "source": [
        "def main():\n",
        "  root_folder =\"/content/gdrive/My Drive/vid\"\n",
        "  Content_folder=\"/content/gdrive/My Drive/Extracted_content\"\n",
        "  VdoAD = os.path.join(root_folder, \"VDO-AD\")\n",
        "  make_dirs(VdoAD)\n",
        "  extensions = ['mp4', 'mkv','avi']\n",
        "  video_files, video_paths = extract_videos(VdoAD, extensions)\n",
        "  for itr in range(len(video_paths)):\n",
        "    convert_to_greyscale(root_folder,Content_folder, video_paths[itr], video_files[itr], \"Raw_Frames\")"
      ],
      "execution_count": null,
      "outputs": []
    },
    {
      "cell_type": "code",
      "metadata": {
        "id": "-Loo3Sh26Uxh"
      },
      "source": [
        "main()"
      ],
      "execution_count": null,
      "outputs": []
    }
  ]
}